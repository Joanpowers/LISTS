{
 "cells": [
  {
   "cell_type": "code",
   "execution_count": 2,
   "metadata": {},
   "outputs": [],
   "source": [
    "#create an array for height and weight\n",
    "student_names = ([\"AdokoroNancy\",\"Ahabwe Faith\",\"Kwagala Joanna\",\"Mahoro Easter\",\"Mbabazi Hawa\",\"Nakanjako Josephine\",\"Nanteza Dorcus\",\"Mbabazi Angel\",\"Namara Racheal\",\"Lwamulungi Sheila\",\"Nakawuka Sandra\",\"Achola Gloria\",\"Nagawa Esther\",\"Wanjiku Hannan\",\"Babirye Sandra\",\"nakagga shanitah\",\"Wembabazi Vivian Ritah\",\"Nanziri Ritah Namayanja\",\"Nasejje Mariam\",\"Namukose Jolline Edriana\",\"Agatha Faith Anyango\",\"Kirabo Sarah\",\"Nansalire Anitah\",\"Nalugo gladys\",\"Namakula Allen\",\"Tukahirwa emily\",\"Shamirah Ahmed\",\"Ameso lmmaculate\",\"Ayoo Teddy\",\"Biira Mary\",\"Aloyo Brenda Ojera\",\"Ayebale Immaculate\"])"
   ]
  },
  {
   "cell_type": "code",
   "execution_count": 3,
   "metadata": {},
   "outputs": [],
   "source": [
    "Age = (20,27,21,23,19,24,21,19,19,22,25,27,21,19,21,21,20,23,20,20,27,23,21,19,20,22,21,23,20,30,23)"
   ]
  },
  {
   "cell_type": "code",
   "execution_count": 4,
   "metadata": {},
   "outputs": [],
   "source": [
    "import numpy as np"
   ]
  },
  {
   "cell_type": "code",
   "execution_count": 5,
   "metadata": {},
   "outputs": [
    {
     "name": "stdout",
     "output_type": "stream",
     "text": [
      "[20 27 21 23 19 24 21 19 19 22 25 27 21 19 21 21 20 23 20 20 27 23 21 19\n",
      " 20 22 21 23 20 30 23]\n"
     ]
    }
   ],
   "source": [
    "Age_array= np.array(Age)\n",
    "print(Age_array)"
   ]
  },
  {
   "cell_type": "code",
   "execution_count": 6,
   "metadata": {},
   "outputs": [
    {
     "name": "stdout",
     "output_type": "stream",
     "text": [
      "21.967741935483872\n"
     ]
    }
   ],
   "source": [
    "mean = np.mean(Age_array)\n",
    "print(mean)"
   ]
  },
  {
   "cell_type": "code",
   "execution_count": 7,
   "metadata": {},
   "outputs": [
    {
     "name": "stdout",
     "output_type": "stream",
     "text": [
      "2.741366164803917\n"
     ]
    }
   ],
   "source": [
    "standard_deviation = np.std(Age_array)\n",
    "print(standard_deviation)"
   ]
  },
  {
   "cell_type": "code",
   "execution_count": 8,
   "metadata": {},
   "outputs": [
    {
     "name": "stdout",
     "output_type": "stream",
     "text": [
      "7.515088449531737\n"
     ]
    }
   ],
   "source": [
    "variance = np.var(Age_array)\n",
    "print(variance)"
   ]
  },
  {
   "cell_type": "code",
   "execution_count": 10,
   "metadata": {},
   "outputs": [],
   "source": [
    "Weight = (74,47,54,30,59,65,69,57,55,78,60,80,58,50,50,50,49,70,62,55,55,60,45,70,55,67,67,64,50,65,52,50)"
   ]
  },
  {
   "cell_type": "code",
   "execution_count": 11,
   "metadata": {},
   "outputs": [
    {
     "name": "stdout",
     "output_type": "stream",
     "text": [
      "[74 47 54 30 59 65 69 57 55 78 60 80 58 50 50 50 49 70 62 55 55 60 45 70\n",
      " 55 67 67 64 50 65 52 50]\n"
     ]
    }
   ],
   "source": [
    "Weight_array =np.array(Weight)\n",
    "print(Weight_array)"
   ]
  },
  {
   "cell_type": "code",
   "execution_count": 12,
   "metadata": {},
   "outputs": [
    {
     "name": "stdout",
     "output_type": "stream",
     "text": [
      "58.5\n"
     ]
    }
   ],
   "source": [
    "mean = np.mean(Weight_array)\n",
    "print(mean)"
   ]
  },
  {
   "cell_type": "code",
   "execution_count": 13,
   "metadata": {},
   "outputs": [
    {
     "name": "stdout",
     "output_type": "stream",
     "text": [
      "10.347101043287438\n"
     ]
    }
   ],
   "source": [
    "standard_deviation = np.std(Weight_array)\n",
    "print(standard_deviation)"
   ]
  },
  {
   "cell_type": "code",
   "execution_count": 14,
   "metadata": {},
   "outputs": [
    {
     "name": "stdout",
     "output_type": "stream",
     "text": [
      "107.0625\n"
     ]
    }
   ],
   "source": [
    "variance = np.var(Weight_array)\n",
    "print(variance)"
   ]
  },
  {
   "cell_type": "code",
   "execution_count": 16,
   "metadata": {},
   "outputs": [],
   "source": [
    "Height =(177.8,157.48,185.42,185.42, 175.26, 175.26,157.48,167.64, 154.94,162.56, 175.26,172.72,188.42,165.1,175.26,175.26,160.02,162.56, 101.6,162.56, 93.98, 165.1,63.5,101.6,170.18, 175.26,137.16,165.1, 157.48, 104.14,170.18,162.56)"
   ]
  },
  {
   "cell_type": "code",
   "execution_count": 17,
   "metadata": {},
   "outputs": [
    {
     "name": "stdout",
     "output_type": "stream",
     "text": [
      "[177.8  157.48 185.42 185.42 175.26 175.26 157.48 167.64 154.94 162.56\n",
      " 175.26 172.72 188.42 165.1  175.26 175.26 160.02 162.56 101.6  162.56\n",
      "  93.98 165.1   63.5  101.6  170.18 175.26 137.16 165.1  157.48 104.14\n",
      " 170.18 162.56]\n"
     ]
    }
   ],
   "source": [
    "Height_array = np.array(Height)\n",
    "print(Height_array)"
   ]
  },
  {
   "cell_type": "code",
   "execution_count": 18,
   "metadata": {},
   "outputs": [
    {
     "name": "stdout",
     "output_type": "stream",
     "text": [
      "156.383125\n"
     ]
    }
   ],
   "source": [
    "mean = np.mean(Height_array)\n",
    "print(mean)"
   ]
  },
  {
   "cell_type": "code",
   "execution_count": 19,
   "metadata": {},
   "outputs": [
    {
     "name": "stdout",
     "output_type": "stream",
     "text": [
      "29.63624559107268\n"
     ]
    }
   ],
   "source": [
    "standard_deviation = np.std(Height_array)\n",
    "print(standard_deviation)"
   ]
  },
  {
   "cell_type": "code",
   "execution_count": 20,
   "metadata": {},
   "outputs": [
    {
     "name": "stdout",
     "output_type": "stream",
     "text": [
      "878.3070527343749\n"
     ]
    }
   ],
   "source": [
    "variance = np.var(Height_array)\n",
    "print(variance)"
   ]
  }
 ],
 "metadata": {
  "kernelspec": {
   "display_name": "Python 3",
   "language": "python",
   "name": "python3"
  },
  "language_info": {
   "codemirror_mode": {
    "name": "ipython",
    "version": 3
   },
   "file_extension": ".py",
   "mimetype": "text/x-python",
   "name": "python",
   "nbconvert_exporter": "python",
   "pygments_lexer": "ipython3",
   "version": "3.11.4"
  },
  "orig_nbformat": 4
 },
 "nbformat": 4,
 "nbformat_minor": 2
}
